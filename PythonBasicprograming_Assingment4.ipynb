{
 "cells": [
  {
   "cell_type": "code",
   "execution_count": 4,
   "metadata": {},
   "outputs": [
    {
     "name": "stdout",
     "output_type": "stream",
     "text": [
      "Enter the number10\n",
      "This the factorial of the number 3628800\n"
     ]
    }
   ],
   "source": [
    "#Question No.1:\n",
    "num=int(input(\"Enter the number\"))\n",
    "t=1\n",
    "for i in range(1,num+1):\n",
    "    t=t*i\n",
    "print(\"This the factorial of the number\",t) "
   ]
  },
  {
   "cell_type": "code",
   "execution_count": 1,
   "metadata": {},
   "outputs": [
    {
     "name": "stdout",
     "output_type": "stream",
     "text": [
      "Enter the table you want to print10\n",
      "10 x 1 = 10 \n",
      "\n",
      "10 x 2 = 20 \n",
      "\n",
      "10 x 3 = 30 \n",
      "\n",
      "10 x 4 = 40 \n",
      "\n",
      "10 x 5 = 50 \n",
      "\n",
      "10 x 6 = 60 \n",
      "\n",
      "10 x 7 = 70 \n",
      "\n",
      "10 x 8 = 80 \n",
      "\n",
      "10 x 9 = 90 \n",
      "\n",
      "10 x 10 = 100 \n",
      "\n"
     ]
    }
   ],
   "source": [
    "#Question No.2:\n",
    "tab=int(input(\"Enter the table you want to print\"))\n",
    "for i in range(1,11):\n",
    "    print(tab,\"x\",i,\"=\",tab*i,\"\\n\")"
   ]
  },
  {
   "cell_type": "code",
   "execution_count": 8,
   "metadata": {},
   "outputs": [
    {
     "name": "stdout",
     "output_type": "stream",
     "text": [
      "How many term do you need20\n",
      "0\n",
      "1\n",
      "1\n",
      "2\n",
      "3\n",
      "5\n",
      "8\n",
      "13\n",
      "21\n",
      "34\n",
      "55\n",
      "89\n",
      "144\n",
      "233\n",
      "377\n",
      "610\n",
      "987\n",
      "1597\n",
      "2584\n",
      "4181\n"
     ]
    }
   ],
   "source": [
    "#Question No.3:\n",
    "term = int(input(\"How many term do you need\"))\n",
    "n1=0 \n",
    "n2=1\n",
    "c=0\n",
    "while c<term:\n",
    "       while c<term:\n",
    "        print(n1)\n",
    "        n = n1+n2\n",
    "        n1 = n2\n",
    "        n2 = n\n",
    "        c += 1"
   ]
  },
  {
   "cell_type": "code",
   "execution_count": 21,
   "metadata": {},
   "outputs": [
    {
     "name": "stdout",
     "output_type": "stream",
     "text": [
      "Enter the length of your number3\n",
      "Enter the 0 digit of your number3\n",
      "Enter the 1 digit of your number7\n",
      "Enter the 2 digit of your number0\n",
      "This is an armstrong number\n"
     ]
    }
   ],
   "source": [
    "#Question No.4:\n",
    "leng=int(input(\"Enter the length of your number\"))    \n",
    "l=[]\n",
    "r=[]\n",
    "t=[]\n",
    "for i in range(0,leng):\n",
    "    digit=int(input(\"Enter the {} digit of your number\".format(i)))\n",
    "    l.append(digit)\n",
    "    r.append(digit) \n",
    "    \n",
    "for j in range(len(l)):\n",
    "    l[j]=l[j]**3\n",
    "    \n",
    "for k in range(0,len(r)):\n",
    "    r[k]=str(r[k])\n",
    "    \n",
    "s=sum(l)\n",
    "s1=str(s)\n",
    "t.extend(s1)\n",
    "\n",
    "if t==r:\n",
    "    print(\"This is an armstrong number\")\n",
    "else:\n",
    "    print(\"This is not an armstrong number\")"
   ]
  },
  {
   "cell_type": "code",
   "execution_count": 20,
   "metadata": {},
   "outputs": [
    {
     "name": "stdout",
     "output_type": "stream",
     "text": [
      "Enter the lower bound for the interval0\n",
      "Enter the upper bound for the interval400\n",
      "0 is an Armstrong number between the range 0 to 400\n",
      "1 is an Armstrong number between the range 0 to 400\n",
      "153 is an Armstrong number between the range 0 to 400\n",
      "370 is an Armstrong number between the range 0 to 400\n",
      "371 is an Armstrong number between the range 0 to 400\n"
     ]
    }
   ],
   "source": [
    "#Question No.5:\n",
    "lower=int(input(\"Enter the lower bound for the interval\"))\n",
    "upper=int(input(\"Enter the upper bound for the interval\"))\n",
    "for i in range(lower,upper):\n",
    "    j=str(i)\n",
    "    y=[]\n",
    "    y.extend(j)\n",
    "    for p in range(0,len(y)):\n",
    "        y[p]=int(y[p])\n",
    "    for k in range(0,len(y)):\n",
    "        y[k]=y[k]**3\n",
    "    v=sum(y)\n",
    "    if v==i:\n",
    "        print(\"{} is an Armstrong number between the range {} to {}\".format(i,lower,upper))"
   ]
  },
  {
   "cell_type": "code",
   "execution_count": 4,
   "metadata": {},
   "outputs": [
    {
     "name": "stdout",
     "output_type": "stream",
     "text": [
      "Enter the number of natural numbers you want to add100\n",
      "This is the sum 5050\n"
     ]
    }
   ],
   "source": [
    "#Question No.6:\n",
    "n=int(input(\"Enter the number of natural numbers you want to add\"))\n",
    "sum=0\n",
    "for i in range(0,n+1):\n",
    "    sum=sum+i\n",
    "    \n",
    "print(\"This is the sum\",sum)        "
   ]
  },
  {
   "cell_type": "code",
   "execution_count": 5,
   "metadata": {},
   "outputs": [
    {
     "data": {
      "text/plain": [
       "'C:\\\\Users\\\\DELL'"
      ]
     },
     "execution_count": 5,
     "metadata": {},
     "output_type": "execute_result"
    }
   ],
   "source": [
    "pwd()"
   ]
  },
  {
   "cell_type": "code",
   "execution_count": null,
   "metadata": {},
   "outputs": [],
   "source": []
  }
 ],
 "metadata": {
  "kernelspec": {
   "display_name": "Python 3",
   "language": "python",
   "name": "python3"
  },
  "language_info": {
   "codemirror_mode": {
    "name": "ipython",
    "version": 3
   },
   "file_extension": ".py",
   "mimetype": "text/x-python",
   "name": "python",
   "nbconvert_exporter": "python",
   "pygments_lexer": "ipython3",
   "version": "3.8.3"
  }
 },
 "nbformat": 4,
 "nbformat_minor": 4
}
