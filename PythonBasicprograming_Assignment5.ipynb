{
 "cells": [
  {
   "cell_type": "code",
   "execution_count": 18,
   "metadata": {},
   "outputs": [
    {
     "name": "stdout",
     "output_type": "stream",
     "text": [
      "Enter number 15\n",
      "Enter number 210\n",
      "This is the LCM 10\n"
     ]
    }
   ],
   "source": [
    "#Question No.1:\n",
    "num1=int(input(\"Enter number 1\"))\n",
    "num2=int(input(\"Enter number 2\"))\n",
    "if num1 > num2:\n",
    "    g=num1   \n",
    "else:  \n",
    "    g=num2  \n",
    "while(True):   \n",
    "    if((g % num1==0) and (g % num2==0)):  \n",
    "        lcm=g  \n",
    "        break  \n",
    "        g+=1     \n",
    "print(\"This is the LCM\",lcm)        "
   ]
  },
  {
   "cell_type": "code",
   "execution_count": 7,
   "metadata": {},
   "outputs": [
    {
     "name": "stdout",
     "output_type": "stream",
     "text": [
      "Enter number 112\n",
      "Enter number 26\n",
      "This is the HCF 6\n"
     ]
    }
   ],
   "source": [
    "#Question No.2:\n",
    "num1=int(input(\"Enter number 1\"))\n",
    "num2=int(input(\"Enter number 2\"))\n",
    "if num1 > num2:\n",
    "    s=num2   \n",
    "else:  \n",
    "    s=num1  \n",
    "for i in range(1, s+1):\n",
    "        if((num1 % i == 0) and (num2 % i == 0)):\n",
    "            hcf = i   \n",
    "print(\"This is the HCF\",hcf)  "
   ]
  },
  {
   "cell_type": "code",
   "execution_count": 7,
   "metadata": {},
   "outputs": [
    {
     "name": "stdout",
     "output_type": "stream",
     "text": [
      "Enter your value56\n",
      "1 - Converting to Binary\n",
      "2 - Converting to Octal\n",
      "3 - Converting to hexadecimal\n",
      "2\n",
      "This is the octal value:  0o70\n"
     ]
    }
   ],
   "source": [
    "#Question No.3:\n",
    "dec=int(input(\"Enter your value\"))\n",
    "s=int(input(\"1 - Converting to Binary\\n2 - Converting to Octal\\n3 - Converting to hexadecimal\\n\"))\n",
    "if s==1:\n",
    "     print(\"This is the binary value: \",bin(dec))\n",
    "if s==2:\n",
    "    print(\"This is the octal value: \",oct(dec))\n",
    "if s==3:\n",
    "    print(\"This is the hexadecimal value: \",hex(dec))"
   ]
  },
  {
   "cell_type": "code",
   "execution_count": 8,
   "metadata": {},
   "outputs": [
    {
     "name": "stdout",
     "output_type": "stream",
     "text": [
      "Enter the charecter you want to find the ASCII value fore\n",
      "101\n"
     ]
    }
   ],
   "source": [
    "#Question No.4:\n",
    "l=input(\"Enter the character you want to find the ASCII value for\")\n",
    "print(ord(l))"
   ]
  },
  {
   "cell_type": "code",
   "execution_count": 14,
   "metadata": {},
   "outputs": [
    {
     "name": "stdout",
     "output_type": "stream",
     "text": [
      "1-Addition\n",
      "2-Subraction\n",
      "3-Division\n",
      "4-Multiplication4\n",
      "Enter number one10\n",
      "Enter number two10\n",
      "100\n"
     ]
    }
   ],
   "source": [
    "#Question No.5:\n",
    "func=int(input(\"1-Addition\\n2-Subraction\\n3-Division\\n4-Multiplication\"))\n",
    "if func==1:\n",
    "    num1=int(input(\"Enter number one\"))\n",
    "    num2=int(input(\"Enter number two\"))\n",
    "    print(num1+num2)\n",
    "if func==2:\n",
    "    num1=int(input(\"Enter number one\"))\n",
    "    num2=int(input(\"Enter number two\"))\n",
    "    print(num1-num2)\n",
    "if func==3:\n",
    "    num1=int(input(\"Enter number one\"))\n",
    "    num2=int(input(\"Enter number two\"))\n",
    "    print(num1/num2) \n",
    "if func==4:\n",
    "    num1=int(input(\"Enter number one\"))\n",
    "    num2=int(input(\"Enter number two\"))\n",
    "    print(num1*num2)    "
   ]
  },
  {
   "cell_type": "code",
   "execution_count": null,
   "metadata": {},
   "outputs": [],
   "source": []
  }
 ],
 "metadata": {
  "kernelspec": {
   "display_name": "Python 3",
   "language": "python",
   "name": "python3"
  },
  "language_info": {
   "codemirror_mode": {
    "name": "ipython",
    "version": 3
   },
   "file_extension": ".py",
   "mimetype": "text/x-python",
   "name": "python",
   "nbconvert_exporter": "python",
   "pygments_lexer": "ipython3",
   "version": "3.8.3"
  }
 },
 "nbformat": 4,
 "nbformat_minor": 4
}
