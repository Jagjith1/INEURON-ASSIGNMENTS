{
 "cells": [
  {
   "cell_type": "code",
   "execution_count": 14,
   "metadata": {},
   "outputs": [
    {
     "name": "stdout",
     "output_type": "stream",
     "text": [
      "Enter the enter of elements in your array2\n",
      "Enter your 1 digit10\n",
      "Enter your 2 digit10\n",
      "This is the sum:  20\n"
     ]
    }
   ],
   "source": [
    "#Question No.1:\n",
    "arr=[]\n",
    "leng=int(input(\"Enter the enter of elements in your array\"))\n",
    "for i in range(0,leng):\n",
    "    digit=int(input(\"Enter your {} digit\".format(i+1)))\n",
    "    arr.append(digit)\n",
    "sum=0    \n",
    "for i in range(0,leng):\n",
    "    sum=sum+arr[i]\n",
    "print(\"This is the sum: \",sum)    "
   ]
  },
  {
   "cell_type": "code",
   "execution_count": 5,
   "metadata": {},
   "outputs": [
    {
     "name": "stdout",
     "output_type": "stream",
     "text": [
      "Enter the enter of elements in your array4\n",
      "Enter your 1 digit1\n",
      "Enter your 2 digit4\n",
      "Enter your 3 digit2\n",
      "Enter your 4 digit3\n",
      "4\n"
     ]
    }
   ],
   "source": [
    "#Question No.2:\n",
    "arr=[]\n",
    "leng=int(input(\"Enter the enter of elements in your array\"))\n",
    "for i in range(0,leng):\n",
    "    digit=int(input(\"Enter your {} digit\".format(i+1)))\n",
    "    arr.append(digit)\n",
    "s=arr[0]    \n",
    "for i in range(0,leng):\n",
    "    if s>arr[i]:\n",
    "        s=s\n",
    "    else:\n",
    "        s=arr[i]\n",
    "print(s)        "
   ]
  },
  {
   "cell_type": "code",
   "execution_count": 8,
   "metadata": {},
   "outputs": [
    {
     "name": "stdout",
     "output_type": "stream",
     "text": [
      "Enter the enter of elements in your array5\n",
      "Enter your 1 digit1\n",
      "Enter your 2 digit2\n",
      "Enter your 3 digit3\n",
      "Enter your 4 digit4\n",
      "Enter your 5 digit5\n",
      "1-Rotation to the right\n",
      "2-Rotation to the left1\n",
      "[5, 1, 2, 3, 4]\n"
     ]
    }
   ],
   "source": [
    "#Question No.3:\n",
    "arr=[]\n",
    "leng=int(input(\"Enter the enter of elements in your array\"))\n",
    "for i in range(0,leng):\n",
    "    digit=int(input(\"Enter your {} digit\".format(i+1)))\n",
    "    arr.append(digit)\n",
    "c=int(input(\"1-Rotation to the right\\n2-Rotation to the left\"))\n",
    "l=len(arr)\n",
    "if c==1:\n",
    "    f=arr[0]\n",
    "    arr[0]=arr[l-1]\n",
    "    arr.insert(1,f)\n",
    "    arr.pop(l)\n",
    "    print(arr)\n",
    "if c==2:\n",
    "    f=arr[0]\n",
    "    arr.insert(arr[l-1],f)\n",
    "    arr.pop(0)\n",
    "    print(arr)"
   ]
  },
  {
   "cell_type": "code",
   "execution_count": 12,
   "metadata": {},
   "outputs": [
    {
     "name": "stdout",
     "output_type": "stream",
     "text": [
      "Enter the enter of elements in your array7\n",
      "Enter your 1 digit1\n",
      "Enter your 2 digit2\n",
      "Enter your 3 digit3\n",
      "Enter your 4 digit4\n",
      "Enter your 5 digit5\n",
      "Enter your 6 digit6\n",
      "Enter your 7 digit7\n",
      "[[3, 4, 5, 6, 7], [1, 2]]\n"
     ]
    }
   ],
   "source": [
    "#Question No.4:\n",
    "arr=[]\n",
    "leng=int(input(\"Enter the enter of elements in your array\"))\n",
    "for i in range(0,leng):\n",
    "    digit=int(input(\"Enter your {} digit\".format(i+1)))\n",
    "    arr.append(digit)\n",
    "l=len(arr)\n",
    "p=l\n",
    "r=[]\n",
    "j=[]\n",
    "s=[]\n",
    "x=0\n",
    "if l==1:\n",
    "    print(\"Sorry we will not be able to split an array with a single value\")\n",
    "else:\n",
    "    if l%2==0:\n",
    "        x=1\n",
    "    else:\n",
    "        x=2\n",
    "    if x==1:\n",
    "        l=l/2\n",
    "        l=int(l)\n",
    "        for i in range(0,l):\n",
    "            j.append(arr[i])\n",
    "        for i in range(l,p):\n",
    "            s.append(arr[i])\n",
    "        r.insert(0,s)\n",
    "        r.insert(l,j)\n",
    "        print(r)\n",
    "    if x==2:\n",
    "        l=l/2 - 1\n",
    "        l=int(l)\n",
    "        for i in range(0,l):\n",
    "            j.append(arr[i])\n",
    "        for i in range(l,p):\n",
    "            s.append(arr[i])\n",
    "        r.insert(0,s)\n",
    "        r.insert(l,j)\n",
    "        print(r)"
   ]
  },
  {
   "cell_type": "code",
   "execution_count": 41,
   "metadata": {},
   "outputs": [
    {
     "name": "stdout",
     "output_type": "stream",
     "text": [
      "Enter the enter of elements in your array4\n",
      "Enter your 1 digit4\n",
      "Enter your 2 digit3\n",
      "Enter your 3 digit2\n",
      "Enter your 4 digit1\n",
      "It is monotomic\n"
     ]
    }
   ],
   "source": [
    "#Question No.5:\n",
    "arr=[]\n",
    "leng=int(input(\"Enter the enter of elements in your array\"))\n",
    "for i in range(0,leng):\n",
    "    digit=int(input(\"Enter your {} digit\".format(i+1)))\n",
    "    arr.append(digit)\n",
    "l=len(arr)\n",
    "j=0\n",
    "x=0\n",
    "h=0\n",
    "for i in range(0,l-1):\n",
    "    h=arr[i]\n",
    "    if h<arr[i+1]:\n",
    "        h=arr[i+1]\n",
    "        x=x+1\n",
    "for i in range(0,l-1):\n",
    "    h=arr[i]\n",
    "    if h>arr[i+1]:\n",
    "        h=arr[i+1]\n",
    "        j=j+1\n",
    "x=x+1\n",
    "j=j+1\n",
    "if x==l or j==l:\n",
    "    print(\"It is monotomic\")\n",
    "else:\n",
    "    print(\"It is not monotomic\")"
   ]
  },
  {
   "cell_type": "markdown",
   "metadata": {},
   "source": [
    "j"
   ]
  },
  {
   "cell_type": "code",
   "execution_count": 43,
   "metadata": {},
   "outputs": [
    {
     "data": {
      "text/plain": [
       "[[1, 4, 5, 12],\n",
       " [-5, 8, 9, 0],\n",
       " [-6, 7, 11, 19],\n",
       " [1, 4, 5, 12],\n",
       " [-5, 8, 9, 0],\n",
       " [-6, 7, 11, 19]]"
      ]
     },
     "execution_count": 43,
     "metadata": {},
     "output_type": "execute_result"
    }
   ],
   "source": [
    "A = [[1, 4, 5, 12], \n",
    "    [-5, 8, 9, 0],\n",
    "    [-6, 7, 11, 19]]\n",
    "b = [[1, 4, 5, 12], \n",
    "    [-5, 8, 9, 0],\n",
    "    [-6, 7, 11, 19]]\n",
    "A+b"
   ]
  },
  {
   "cell_type": "code",
   "execution_count": null,
   "metadata": {},
   "outputs": [],
   "source": []
  }
 ],
 "metadata": {
  "kernelspec": {
   "display_name": "Python 3",
   "language": "python",
   "name": "python3"
  },
  "language_info": {
   "codemirror_mode": {
    "name": "ipython",
    "version": 3
   },
   "file_extension": ".py",
   "mimetype": "text/x-python",
   "name": "python",
   "nbconvert_exporter": "python",
   "pygments_lexer": "ipython3",
   "version": "3.8.3"
  }
 },
 "nbformat": 4,
 "nbformat_minor": 4
}
