{
 "cells": [
  {
   "cell_type": "code",
   "execution_count": 8,
   "metadata": {},
   "outputs": [
    {
     "name": "stdout",
     "output_type": "stream",
     "text": [
      "Enter the number of km10\n",
      "That is 6.21371 miles\n"
     ]
    }
   ],
   "source": [
    "#Question No.1:\n",
    "dis=0.621371\n",
    "km=int(input(\"Enter the number of km\"))\n",
    "mile=km*dis\n",
    "print(\"That is {} miles\".format(mile))"
   ]
  },
  {
   "cell_type": "code",
   "execution_count": 7,
   "metadata": {},
   "outputs": [
    {
     "name": "stdout",
     "output_type": "stream",
     "text": [
      "Enter the celsiu value34\n",
      "This is 93.2 Fahrenheit\n"
     ]
    }
   ],
   "source": [
    "#Question No.2:\n",
    "cel = int(input(\"Enter the celsiu value\"))\n",
    "fah = (cel * 9/5)+32  \n",
    "print(\"This is {} Fahrenheit\".format(fah))          "
   ]
  },
  {
   "cell_type": "code",
   "execution_count": 6,
   "metadata": {},
   "outputs": [
    {
     "name": "stdout",
     "output_type": "stream",
     "text": [
      "Enter the month4\n",
      "Enter the year2021\n",
      "     April 2021\n",
      "Mo Tu We Th Fr Sa Su\n",
      "          1  2  3  4\n",
      " 5  6  7  8  9 10 11\n",
      "12 13 14 15 16 17 18\n",
      "19 20 21 22 23 24 25\n",
      "26 27 28 29 30\n",
      "\n"
     ]
    }
   ],
   "source": [
    "#Question No.3:\n",
    "import calendar\n",
    "m=int(input(\"Enter the month\"))\n",
    "y=int(input(\"Enter the year\"))\n",
    "print(calendar.month(y,m))"
   ]
  },
  {
   "cell_type": "code",
   "execution_count": 17,
   "metadata": {},
   "outputs": [
    {
     "name": "stdout",
     "output_type": "stream",
     "text": [
      "Enter the value of a3\n",
      "Enter the value of b4\n",
      "Enter the value of c56\n",
      "(-0.6666666666666666+4.268749491621899j) (-0.6666666666666666-4.268749491621899j)\n"
     ]
    }
   ],
   "source": [
    "#Question No.4:\n",
    "import cmath\n",
    "a=int(input(\"Enter the value of a\"))\n",
    "b=int(input(\"Enter the value of b\"))\n",
    "c=int(input(\"Enter the value of c\"))\n",
    "d=(b**2)-(4*a*c)\n",
    "s1=-(b-cmath.sqrt(d))/(2*a)\n",
    "s2=-(b+cmath.sqrt(d))/(2*a)\n",
    "print(s1,s2)"
   ]
  },
  {
   "cell_type": "code",
   "execution_count": 3,
   "metadata": {},
   "outputs": [
    {
     "name": "stdout",
     "output_type": "stream",
     "text": [
      "Enter your first number2\n",
      "Enter your second number3\n",
      "number A : 2\n",
      "Number B : 3\n",
      "number A : 3\n",
      "Number B : 2\n"
     ]
    }
   ],
   "source": [
    "#Question No.5:\n",
    "a=int(input(\"Enter your first number\"))\n",
    "b=int(input(\"Enter your second number\"))\n",
    "print(\"number A :\",a)\n",
    "print(\"Number B :\",b)\n",
    "a=a+b\n",
    "b=a-b\n",
    "a=a-b\n",
    "print(\"number A :\",a)\n",
    "print(\"Number B :\",b)"
   ]
  },
  {
   "cell_type": "code",
   "execution_count": null,
   "metadata": {},
   "outputs": [],
   "source": []
  },
  {
   "cell_type": "code",
   "execution_count": null,
   "metadata": {},
   "outputs": [],
   "source": []
  }
 ],
 "metadata": {
  "kernelspec": {
   "display_name": "Python 3",
   "language": "python",
   "name": "python3"
  },
  "language_info": {
   "codemirror_mode": {
    "name": "ipython",
    "version": 3
   },
   "file_extension": ".py",
   "mimetype": "text/x-python",
   "name": "python",
   "nbconvert_exporter": "python",
   "pygments_lexer": "ipython3",
   "version": "3.8.3"
  }
 },
 "nbformat": 4,
 "nbformat_minor": 4
}
