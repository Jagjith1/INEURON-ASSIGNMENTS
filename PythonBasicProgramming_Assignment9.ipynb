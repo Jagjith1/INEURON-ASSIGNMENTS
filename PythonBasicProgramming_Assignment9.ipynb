{
 "cells": [
  {
   "cell_type": "code",
   "execution_count": 3,
   "metadata": {},
   "outputs": [
    {
     "name": "stdout",
     "output_type": "stream",
     "text": [
      "Enter your number10\n",
      "10 is not a disarium number\n"
     ]
    }
   ],
   "source": [
    "#Question No.1:\n",
    "num=int(input(\"Enter your number\"))\n",
    "nums=str(num)\n",
    "l=[]\n",
    "l.extend(nums)\n",
    "for i in range(len(l)):\n",
    "        l[i]=int(l[i])\n",
    "for i in range(len(l)):\n",
    "        l[i]=l[i]**(i+1)\n",
    "su=sum(l)\n",
    "if su==num:\n",
    "    print(\"{} a disarium number\".format(num))\n",
    "else:\n",
    "    print(\"{} is not a disarium number\".format(num))"
   ]
  },
  {
   "cell_type": "code",
   "execution_count": 66,
   "metadata": {},
   "outputs": [
    {
     "name": "stdout",
     "output_type": "stream",
     "text": [
      "Enter upper bound520\n",
      "0 a disarium number\n",
      "1 a disarium number\n",
      "2 a disarium number\n",
      "3 a disarium number\n",
      "4 a disarium number\n",
      "5 a disarium number\n",
      "6 a disarium number\n",
      "7 a disarium number\n",
      "8 a disarium number\n",
      "9 a disarium number\n",
      "89 a disarium number\n",
      "135 a disarium number\n",
      "175 a disarium number\n",
      "518 a disarium number\n",
      "are the only disarium numbers from 0 to 520\n"
     ]
    }
   ],
   "source": [
    "#Question No.2:\n",
    "u=int(input(\"Enter upper bound\"))\n",
    "l=[]\n",
    "i=0\n",
    "nums=str(i)\n",
    "for num in range(u):\n",
    "    nums=str(num)\n",
    "    l=[]\n",
    "    l.extend(nums)\n",
    "    for i in range(len(l)):\n",
    "        l[i]=int(l[i])\n",
    "    for i in range(len(l)):\n",
    "        l[i]=l[i]**(i+1)\n",
    "    su=sum(l)\n",
    "    if su==num:\n",
    "        print(\"{} a disarium number\".format(num))\n",
    "    else:\n",
    "        continue\n",
    "print(\"are the only disarium numbers from 0 to {}\".format(u))        "
   ]
  },
  {
   "cell_type": "code",
   "execution_count": 12,
   "metadata": {},
   "outputs": [
    {
     "name": "stdout",
     "output_type": "stream",
     "text": [
      "Enter your number338\n",
      "This a happy number\n"
     ]
    }
   ],
   "source": [
    "#Question No.3:\n",
    "num=int(input(\"Enter your number\"))\n",
    "nums=str(num)\n",
    "l=[]\n",
    "l.extend(nums)\n",
    "for i in range(len(l)):\n",
    "      l[i]=int(l[i])\n",
    "ll=len(l)        \n",
    "t=1\n",
    "y=0\n",
    "for i in range(50):\n",
    "    ll=len(l)\n",
    "    t=1\n",
    "    for i in range(ll):\n",
    "        l[i]=l[i]**2\n",
    "        t=sum(l)\n",
    "    if t==1:\n",
    "        print(\"This a happy number\")\n",
    "        y=1\n",
    "        break\n",
    "    num1=str(t)\n",
    "    l=[]\n",
    "    l.extend(num1)\n",
    "    for i in range(len(l)):\n",
    "         l[i]=int(l[i])    \n",
    "if y!=1:\n",
    "    print(\"This is not a happy number\")"
   ]
  },
  {
   "cell_type": "code",
   "execution_count": 18,
   "metadata": {},
   "outputs": [
    {
     "name": "stdout",
     "output_type": "stream",
     "text": [
      "The upper bound of what u want to print101\n",
      "0 This is not a happy number\n",
      "1 This a happy number\n",
      "2 This is not a happy number\n",
      "3 This is not a happy number\n",
      "4 This is not a happy number\n",
      "5 This is not a happy number\n",
      "6 This is not a happy number\n",
      "7 This a happy number\n",
      "8 This is not a happy number\n",
      "9 This is not a happy number\n",
      "10 This a happy number\n",
      "11 This is not a happy number\n",
      "12 This is not a happy number\n",
      "13 This a happy number\n",
      "14 This is not a happy number\n",
      "15 This is not a happy number\n",
      "16 This is not a happy number\n",
      "17 This is not a happy number\n",
      "18 This is not a happy number\n",
      "19 This a happy number\n",
      "20 This is not a happy number\n",
      "21 This is not a happy number\n",
      "22 This is not a happy number\n",
      "23 This a happy number\n",
      "24 This is not a happy number\n",
      "25 This is not a happy number\n",
      "26 This is not a happy number\n",
      "27 This is not a happy number\n",
      "28 This a happy number\n",
      "29 This is not a happy number\n",
      "30 This is not a happy number\n",
      "31 This a happy number\n",
      "32 This a happy number\n",
      "33 This is not a happy number\n",
      "34 This is not a happy number\n",
      "35 This is not a happy number\n",
      "36 This is not a happy number\n",
      "37 This is not a happy number\n",
      "38 This is not a happy number\n",
      "39 This is not a happy number\n",
      "40 This is not a happy number\n",
      "41 This is not a happy number\n",
      "42 This is not a happy number\n",
      "43 This is not a happy number\n",
      "44 This a happy number\n",
      "45 This is not a happy number\n",
      "46 This is not a happy number\n",
      "47 This is not a happy number\n",
      "48 This is not a happy number\n",
      "49 This a happy number\n",
      "50 This is not a happy number\n",
      "51 This is not a happy number\n",
      "52 This is not a happy number\n",
      "53 This is not a happy number\n",
      "54 This is not a happy number\n",
      "55 This is not a happy number\n",
      "56 This is not a happy number\n",
      "57 This is not a happy number\n",
      "58 This is not a happy number\n",
      "59 This is not a happy number\n",
      "60 This is not a happy number\n",
      "61 This is not a happy number\n",
      "62 This is not a happy number\n",
      "63 This is not a happy number\n",
      "64 This is not a happy number\n",
      "65 This is not a happy number\n",
      "66 This is not a happy number\n",
      "67 This is not a happy number\n",
      "68 This a happy number\n",
      "69 This is not a happy number\n",
      "70 This a happy number\n",
      "71 This is not a happy number\n",
      "72 This is not a happy number\n",
      "73 This is not a happy number\n",
      "74 This is not a happy number\n",
      "75 This is not a happy number\n",
      "76 This is not a happy number\n",
      "77 This is not a happy number\n",
      "78 This is not a happy number\n",
      "79 This a happy number\n",
      "80 This is not a happy number\n",
      "81 This is not a happy number\n",
      "82 This a happy number\n",
      "83 This is not a happy number\n",
      "84 This is not a happy number\n",
      "85 This is not a happy number\n",
      "86 This a happy number\n",
      "87 This is not a happy number\n",
      "88 This is not a happy number\n",
      "89 This is not a happy number\n",
      "90 This is not a happy number\n",
      "91 This a happy number\n",
      "92 This is not a happy number\n",
      "93 This is not a happy number\n",
      "94 This a happy number\n",
      "95 This is not a happy number\n",
      "96 This is not a happy number\n",
      "97 This a happy number\n",
      "98 This is not a happy number\n",
      "99 This is not a happy number\n",
      "100 This a happy number\n"
     ]
    }
   ],
   "source": [
    "#Question No.4:\n",
    "r=int(input(\"The upper bound of what u want to print\"))\n",
    "for i in range(r):\n",
    "    num=i\n",
    "    nums=str(num)\n",
    "    l=[]\n",
    "    l.extend(nums)\n",
    "    for j in range(len(l)):\n",
    "        l[j]=int(l[j])\n",
    "    ll=len(l)        \n",
    "    t=1\n",
    "    y=0\n",
    "    for k in range(50):\n",
    "        ll=len(l)\n",
    "        t=1\n",
    "        for p in range(ll):\n",
    "            l[p]=l[p]**2\n",
    "            t=sum(l)\n",
    "        if t==1:\n",
    "            print(\"{} This a happy number\".format(i))\n",
    "            y=1\n",
    "            break\n",
    "        num1=str(t)\n",
    "        l=[]\n",
    "        l.extend(num1)\n",
    "        for q in range(len(l)):\n",
    "            l[q]=int(l[q])    \n",
    "    if y!=1:\n",
    "        print(\"{} This is not a happy number\".format(i))"
   ]
  },
  {
   "cell_type": "code",
   "execution_count": 26,
   "metadata": {},
   "outputs": [
    {
     "name": "stdout",
     "output_type": "stream",
     "text": [
      "Enter your number113\n",
      "This is not a harshad number\n"
     ]
    }
   ],
   "source": [
    "#Question No.5:\n",
    "num=int(input(\"Enter your number\"))\n",
    "nums=str(num)\n",
    "l=[]\n",
    "l.extend(nums)\n",
    "for i in range(len(l)):\n",
    "      l[i]=int(l[i])\n",
    "s=sum(l)\n",
    "if num%s==0:\n",
    "    print(\"This is a harshad number\")\n",
    "else:\n",
    "    print(\"This is not a harshad number\")"
   ]
  },
  {
   "cell_type": "code",
   "execution_count": 12,
   "metadata": {
    "scrolled": true
   },
   "outputs": [
    {
     "name": "stdout",
     "output_type": "stream",
     "text": [
      "0\n",
      "2\n",
      "6\n",
      "12\n",
      "20\n",
      "30\n",
      "42\n",
      "56\n",
      "72\n",
      "90\n"
     ]
    }
   ],
   "source": [
    "#Question No.6:\n",
    "for i in range(101):\n",
    "    r=i*(i+1)\n",
    "    if r<=100:\n",
    "        print(i*(i+1))\n",
    " "
   ]
  }
 ],
 "metadata": {
  "kernelspec": {
   "display_name": "Python 3",
   "language": "python",
   "name": "python3"
  },
  "language_info": {
   "codemirror_mode": {
    "name": "ipython",
    "version": 3
   },
   "file_extension": ".py",
   "mimetype": "text/x-python",
   "name": "python",
   "nbconvert_exporter": "python",
   "pygments_lexer": "ipython3",
   "version": "3.8.3"
  }
 },
 "nbformat": 4,
 "nbformat_minor": 4
}
