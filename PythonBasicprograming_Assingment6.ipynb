{
 "cells": [
  {
   "cell_type": "code",
   "execution_count": 4,
   "metadata": {},
   "outputs": [
    {
     "name": "stdout",
     "output_type": "stream",
     "text": [
      "Enter how many terms you need10\n",
      "0\n",
      "1\n",
      "1\n",
      "2\n",
      "3\n",
      "5\n",
      "8\n",
      "13\n",
      "21\n",
      "34\n"
     ]
    }
   ],
   "source": [
    "#Question No.1:\n",
    "def r(n):\n",
    "    if n<=1:\n",
    "        return(n)\n",
    "    else:\n",
    "         return(r(n-1)+r(n-2))  \n",
    "t=int(input(\"Enter how many terms you need\"))\n",
    "\n",
    "if t<=0:\n",
    "    print(\"This is a not valid input please enter a positive value\")\n",
    "else:\n",
    "    for i in range(t):\n",
    "        print(r(i))"
   ]
  },
  {
   "cell_type": "code",
   "execution_count": 7,
   "metadata": {},
   "outputs": [
    {
     "name": "stdout",
     "output_type": "stream",
     "text": [
      "Enter your number5\n",
      "<function f at 0x000001E61F072B80>\n"
     ]
    }
   ],
   "source": [
    "#Question No.2:\n",
    "def f(n):\n",
    "    if n==1:\n",
    "        return(n)\n",
    "    else:\n",
    "         return n*f(n-1) \n",
    "num=int(input(\"Enter your number\")) \n",
    "if num<0:\n",
    "    print(\"Enter a positive number\")\n",
    "elif num==0:\n",
    "    print(\"The factorial of 0 is 1\")\n",
    "else:\n",
    "    print(f)"
   ]
  },
  {
   "cell_type": "code",
   "execution_count": 10,
   "metadata": {},
   "outputs": [
    {
     "name": "stdout",
     "output_type": "stream",
     "text": [
      "Enter your weight69\n",
      "Enter your height in metres4.6\n",
      "3.260869565217392\n"
     ]
    }
   ],
   "source": [
    "#Question No.3:\n",
    "w=int(input(\"Enter your weight\"))\n",
    "h=float(input(\"Enter your height in metres\"))\n",
    "b=w/h**2\n",
    "print(b)"
   ]
  },
  {
   "cell_type": "code",
   "execution_count": 17,
   "metadata": {},
   "outputs": [
    {
     "name": "stdout",
     "output_type": "stream",
     "text": [
      "Enter your number8\n"
     ]
    },
    {
     "data": {
      "text/plain": [
       "2.0794415416798357"
      ]
     },
     "execution_count": 17,
     "metadata": {},
     "output_type": "execute_result"
    }
   ],
   "source": [
    "import math\n",
    "#Question No.4:\n",
    "num=int(input(\"Enter your number\"))\n",
    "math.log(num)"
   ]
  },
  {
   "cell_type": "code",
   "execution_count": null,
   "metadata": {},
   "outputs": [],
   "source": [
    "#Question No.5:\n",
    "n=int(input(\"Enter the limit needed\"))\n",
    "sum=0\n",
    "for i in range(0,n):\n",
    "    sum=sum**3+(sum+1)**3  \n",
    "print(sum)    "
   ]
  },
  {
   "cell_type": "code",
   "execution_count": null,
   "metadata": {},
   "outputs": [],
   "source": []
  }
 ],
 "metadata": {
  "kernelspec": {
   "display_name": "Python 3",
   "language": "python",
   "name": "python3"
  },
  "language_info": {
   "codemirror_mode": {
    "name": "ipython",
    "version": 3
   },
   "file_extension": ".py",
   "mimetype": "text/x-python",
   "name": "python",
   "nbconvert_exporter": "python",
   "pygments_lexer": "ipython3",
   "version": "3.8.3"
  }
 },
 "nbformat": 4,
 "nbformat_minor": 4
}
