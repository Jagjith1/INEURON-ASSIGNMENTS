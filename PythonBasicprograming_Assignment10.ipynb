{
 "cells": [
  {
   "cell_type": "code",
   "execution_count": 36,
   "metadata": {},
   "outputs": [
    {
     "name": "stdout",
     "output_type": "stream",
     "text": [
      "Enter the lenght of your list3\n",
      "Enter the 0 number1\n",
      "Enter the 1 number2\n",
      "Enter the 2 number3\n",
      "6\n"
     ]
    }
   ],
   "source": [
    "#Question No.1:\n",
    "le=int(input(\"Enter the lenght of your list\"))\n",
    "l=[]\n",
    "for i in range(le):\n",
    "    a=int(input(\"Enter the {} number\".format(i)))\n",
    "    l.append(a)\n",
    "res=0\n",
    "for i in range(len(l)):\n",
    "    res=res+l[i]\n",
    "print(res)    "
   ]
  },
  {
   "cell_type": "code",
   "execution_count": 42,
   "metadata": {},
   "outputs": [
    {
     "name": "stdout",
     "output_type": "stream",
     "text": [
      "Enter the lenght of your list2\n",
      "Enter the 0 number2\n",
      "Enter the 1 number2\n",
      "4\n"
     ]
    }
   ],
   "source": [
    "#Question No.2:\n",
    "le=int(input(\"Enter the lenght of your list\"))\n",
    "l=[]\n",
    "for i in range(le):\n",
    "    a=int(input(\"Enter the {} number\".format(i)))\n",
    "    l.append(a)\n",
    "res=1\n",
    "for i in range(len(l)):\n",
    "    res=res*l[i]\n",
    "print(res)        "
   ]
  },
  {
   "cell_type": "code",
   "execution_count": 54,
   "metadata": {},
   "outputs": [
    {
     "name": "stdout",
     "output_type": "stream",
     "text": [
      "Enter the lenght of your list3\n",
      "Enter the 0 number34\n",
      "Enter the 1 number33\n",
      "Enter the 2 number35\n",
      "33\n"
     ]
    }
   ],
   "source": [
    "#Question No.3:\n",
    "le=int(input(\"Enter the lenght of your list\"))\n",
    "l=[]\n",
    "for i in range(le):\n",
    "    a=int(input(\"Enter the {} number\".format(i)))\n",
    "    l.append(a)\n",
    "a=l[0]  \n",
    "for i in range(len(l)):\n",
    "    if a>l[i]:\n",
    "        a=l[i]\n",
    "print(a)        "
   ]
  },
  {
   "cell_type": "code",
   "execution_count": 1,
   "metadata": {},
   "outputs": [
    {
     "name": "stdout",
     "output_type": "stream",
     "text": [
      "Enter the lenght of your list3\n",
      "Enter the 0 number4\n",
      "Enter the 1 number5\n",
      "Enter the 2 number2\n",
      "5\n"
     ]
    }
   ],
   "source": [
    "#Question No.4:\n",
    "le=int(input(\"Enter the lenght of your list\"))\n",
    "l=[]\n",
    "for i in range(le):\n",
    "    a=int(input(\"Enter the {} number\".format(i)))\n",
    "    l.append(a)\n",
    "a=l[0]  \n",
    "for i in range(len(l)):\n",
    "    if a<l[i]:\n",
    "        a=l[i]\n",
    "print(a)        "
   ]
  },
  {
   "cell_type": "code",
   "execution_count": 36,
   "metadata": {},
   "outputs": [
    {
     "name": "stdout",
     "output_type": "stream",
     "text": [
      "Enter the lenght of your list5\n",
      "Enter the 0 number23\n",
      "Enter the 1 number5\n",
      "Enter the 2 number2\n",
      "Enter the 3 number1\n",
      "Enter the 4 number45\n",
      "23\n"
     ]
    }
   ],
   "source": [
    "#Question No.5:\n",
    "le=int(input(\"Enter the lenght of your list\"))\n",
    "l=[]\n",
    "o=[]\n",
    "for i in range(le):\n",
    "    a=int(input(\"Enter the {} number\".format(i)))\n",
    "    l.append(a)\n",
    "a=l[0] \n",
    "for i in range(le):\n",
    "    a=l[0] \n",
    "    leng=len(l)\n",
    "    for k in range(leng):\n",
    "        if a<l[k]:\n",
    "            a=l[k]\n",
    "    o.append(a)        \n",
    "    l.remove(a)    \n",
    "print(o[1])    "
   ]
  },
  {
   "cell_type": "code",
   "execution_count": 39,
   "metadata": {},
   "outputs": [
    {
     "name": "stdout",
     "output_type": "stream",
     "text": [
      "Enter the value of n3\n",
      "Enter the lenght of your list4\n",
      "Enter the 0 number23\n",
      "Enter the 1 number55\n",
      "Enter the 2 number1\n",
      "Enter the 3 number7\n",
      "55\n",
      "23\n",
      "7\n"
     ]
    }
   ],
   "source": [
    "#Question No.6:\n",
    "n=int(input(\"Enter the value of n\"))\n",
    "le=int(input(\"Enter the lenght of your list\"))\n",
    "l=[]\n",
    "o=[]\n",
    "for i in range(le):\n",
    "    a=int(input(\"Enter the {} number\".format(i)))\n",
    "    l.append(a)\n",
    "a=l[0] \n",
    "for i in range(le):\n",
    "    a=l[0] \n",
    "    leng=len(l)\n",
    "    for k in range(leng):\n",
    "        if a<l[k]:\n",
    "            a=l[k]\n",
    "    o.append(a)        \n",
    "    l.remove(a)    \n",
    "for j in range(n):\n",
    "    print(o[j])"
   ]
  },
  {
   "cell_type": "code",
   "execution_count": 42,
   "metadata": {},
   "outputs": [
    {
     "name": "stdout",
     "output_type": "stream",
     "text": [
      "Enter the lenght of your list4\n",
      "Enter the 0 number2\n",
      "Enter the 1 number3\n",
      "Enter the 2 number4\n",
      "Enter the 3 number5\n",
      "2\n",
      "4\n"
     ]
    }
   ],
   "source": [
    "#Question No.7:\n",
    "le=int(input(\"Enter the lenght of your list\"))\n",
    "l=[]\n",
    "for i in range(le):\n",
    "    a=int(input(\"Enter the {} number\".format(i)))\n",
    "    l.append(a)\n",
    "for i in range(le):\n",
    "    if l[i]%2==0:\n",
    "        print(l[i])"
   ]
  },
  {
   "cell_type": "code",
   "execution_count": 43,
   "metadata": {},
   "outputs": [
    {
     "name": "stdout",
     "output_type": "stream",
     "text": [
      "Enter the lenght of your list4\n",
      "Enter the 0 number2\n",
      "Enter the 1 number3\n",
      "Enter the 2 number4\n",
      "Enter the 3 number5\n",
      "3\n",
      "5\n"
     ]
    }
   ],
   "source": [
    "#Question No.8:\n",
    "le=int(input(\"Enter the lenght of your list\"))\n",
    "l=[]\n",
    "for i in range(le):\n",
    "    a=int(input(\"Enter the {} number\".format(i)))\n",
    "    l.append(a)\n",
    "for i in range(le):\n",
    "    if l[i]%2!=0:\n",
    "        print(l[i])"
   ]
  },
  {
   "cell_type": "code",
   "execution_count": 66,
   "metadata": {},
   "outputs": [
    {
     "name": "stdout",
     "output_type": "stream",
     "text": [
      "Enter the number of elements in your list5\n",
      "Enter the 0 elementggfdg\n",
      "Enter the 1 elementsg \n",
      "Enter the 2 element \n",
      "Enter the 3 elementfsd \n",
      "Enter the 4 elementf\n",
      "['ggfdg', 'sg ', 'fsd ', 'f']\n"
     ]
    }
   ],
   "source": [
    "#Question No.9:\n",
    "le=int(input(\"Enter the number of elements in your list\"))\n",
    "l=[]\n",
    "for i in range(le):\n",
    "    a=input(\"Enter the {} element\".format(i))\n",
    "    l.append(a)\n",
    "for k in range(le):\n",
    "    if l[k]==\" \":\n",
    "        l.remove(l[k])\n",
    "        break\n",
    "print(l)        "
   ]
  },
  {
   "cell_type": "code",
   "execution_count": 71,
   "metadata": {},
   "outputs": [
    {
     "name": "stdout",
     "output_type": "stream",
     "text": [
      "Enter the lenght of your list4\n",
      "Enter the 0 number1\n",
      "Enter the 1 number2\n",
      "Enter the 2 number3\n",
      "Enter the 3 number4\n",
      "List l:[1, 2, 3, 4]\n",
      "List o:[1, 2, 3, 4]\n"
     ]
    }
   ],
   "source": [
    "#Question No.10:\n",
    "le=int(input(\"Enter the lenght of your list\"))\n",
    "l=[]\n",
    "o=[]\n",
    "for i in range(le):\n",
    "    a=int(input(\"Enter the {} number\".format(i)))\n",
    "    l.append(a)\n",
    "    o.append(0)\n",
    "for i in range(le):\n",
    "    o[i]=l[i]\n",
    "print(\"List l:{}\\nList o:{}\".format(l,o))    "
   ]
  },
  {
   "cell_type": "code",
   "execution_count": 76,
   "metadata": {},
   "outputs": [
    {
     "name": "stdout",
     "output_type": "stream",
     "text": [
      "Enter the lenght of your list4\n",
      "Enter the number you want to count the number of times in the list for4\n",
      "Enter the 0 number1\n",
      "Enter the 1 number4\n",
      "Enter the 2 number4\n",
      "Enter the 3 number4\n",
      "The number 4 has come 3 times in this list\n"
     ]
    }
   ],
   "source": [
    "#Question No.11:\n",
    "le=int(input(\"Enter the lenght of your list\"))\n",
    "l=[]\n",
    "o=[]\n",
    "ele=int(input(\"Enter the number you want to count the number of times in the list for\"))\n",
    "for i in range(le):\n",
    "    a=int(input(\"Enter the {} number\".format(i)))\n",
    "    l.append(a)\n",
    "c=0    \n",
    "for i in range(le):\n",
    "    if l[i]==ele:\n",
    "        c=c+1\n",
    "print(\"The number {} has come {} times in this list\".format(ele,c))        "
   ]
  }
 ],
 "metadata": {
  "kernelspec": {
   "display_name": "Python 3",
   "language": "python",
   "name": "python3"
  },
  "language_info": {
   "codemirror_mode": {
    "name": "ipython",
    "version": 3
   },
   "file_extension": ".py",
   "mimetype": "text/x-python",
   "name": "python",
   "nbconvert_exporter": "python",
   "pygments_lexer": "ipython3",
   "version": "3.8.3"
  }
 },
 "nbformat": 4,
 "nbformat_minor": 4
}
