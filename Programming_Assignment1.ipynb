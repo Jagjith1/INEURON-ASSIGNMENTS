{
 "cells": [
  {
   "cell_type": "code",
   "execution_count": 24,
   "metadata": {},
   "outputs": [
    {
     "name": "stdout",
     "output_type": "stream",
     "text": [
      "Hello Python\n"
     ]
    }
   ],
   "source": [
    "#Programing_Assignment1\n",
    "\n",
    "#Question No.1:\n",
    "print(\"Hello Python\")"
   ]
  },
  {
   "cell_type": "code",
   "execution_count": 25,
   "metadata": {},
   "outputs": [
    {
     "name": "stdout",
     "output_type": "stream",
     "text": [
      "Enter a number10\n",
      "Enter another number2\n",
      "Enter if you want to do addition or divisiondivision\n",
      "5.0\n"
     ]
    }
   ],
   "source": [
    "#Question No.2:\n",
    "a = int(input(\"Enter a number\"))\n",
    "b = int(input(\"Enter another number\"))\n",
    "operation = input(\"Enter if you want to do addition or division\")\n",
    "if operation==\"addition\" or operation==\"Addition\":\n",
    "    c=a+b\n",
    "    print(c)\n",
    "elif operation==\"division\" or operation==\"Division\":\n",
    "    c=a/b\n",
    "    print(c)\n",
    "else:\n",
    "    print(\"Your option is not valid\")"
   ]
  },
  {
   "cell_type": "code",
   "execution_count": 26,
   "metadata": {},
   "outputs": [
    {
     "name": "stdout",
     "output_type": "stream",
     "text": [
      "Enter the base of the triangle10\n",
      "Enter the height of the triangle15\n",
      "this is the area of the triangle : 75.0\n"
     ]
    }
   ],
   "source": [
    "#Question No.3:\n",
    "d=int(input(\"Enter the base of the triangle\"))\n",
    "e=int(input(\"Enter the height of the triangle\"))\n",
    "f=0.5*d*e\n",
    "print(\"this is the area of the triangle :\",f)"
   ]
  },
  {
   "cell_type": "code",
   "execution_count": 5,
   "metadata": {},
   "outputs": [
    {
     "name": "stdout",
     "output_type": "stream",
     "text": [
      "Enter the first number23\n",
      "Enter the second number5665\n",
      "number A : 23\n",
      "Number B : 5665\n",
      "Result:\n",
      "number A : 5665\n",
      "Number B : 23\n"
     ]
    }
   ],
   "source": [
    "#Question No.4:\n",
    "g = int(input(\"Enter the first number\"))\n",
    "y=g\n",
    "h = int(input(\"Enter the second number\"))\n",
    "print(\"number A :\",g)\n",
    "print(\"Number B :\",h)\n",
    "g=h\n",
    "h=y\n",
    "print(\"Result:\")\n",
    "print(\"number A :\",g)\n",
    "print(\"Number B :\",h)"
   ]
  },
  {
   "cell_type": "code",
   "execution_count": 18,
   "metadata": {},
   "outputs": [
    {
     "data": {
      "text/plain": [
       "500048"
      ]
     },
     "execution_count": 18,
     "metadata": {},
     "output_type": "execute_result"
    }
   ],
   "source": [
    "# Question No.5:\n",
    "import random \n",
    "random.randint(1,1000000)"
   ]
  },
  {
   "cell_type": "code",
   "execution_count": null,
   "metadata": {},
   "outputs": [],
   "source": []
  }
 ],
 "metadata": {
  "kernelspec": {
   "display_name": "Python 3",
   "language": "python",
   "name": "python3"
  },
  "language_info": {
   "codemirror_mode": {
    "name": "ipython",
    "version": 3
   },
   "file_extension": ".py",
   "mimetype": "text/x-python",
   "name": "python",
   "nbconvert_exporter": "python",
   "pygments_lexer": "ipython3",
   "version": "3.8.3"
  }
 },
 "nbformat": 4,
 "nbformat_minor": 4
}
