{
 "cells": [
  {
   "cell_type": "code",
   "execution_count": 20,
   "metadata": {},
   "outputs": [
    {
     "name": "stdout",
     "output_type": "stream",
     "text": [
      "Enter the length3\n",
      "Enter ur stringhi my name is boo\n",
      "name is bigger than the length needed\n"
     ]
    }
   ],
   "source": [
    "#Question No.1:\n",
    "leng=int(input(\"Enter the length\"))\n",
    "s=input(\"Enter ur string\")\n",
    "l=s.split()\n",
    "for i in range(len(l)):\n",
    "    if len(l[i])>leng:\n",
    "        print(\"{} is bigger than the length needed\".format(l[i]))\n",
    "        "
   ]
  },
  {
   "cell_type": "code",
   "execution_count": 31,
   "metadata": {},
   "outputs": [
    {
     "name": "stdout",
     "output_type": "stream",
     "text": [
      "Enter the location to remove3\n",
      "Enter ur stringhiaa see u\n",
      "Here is the string after removing:\n",
      "['h', 'i', 'a', ' ', 's', 'e', 'e', ' ', 'u']\n"
     ]
    }
   ],
   "source": [
    "#Question No.2:\n",
    "loc=int(input(\"Enter the location to remove\"))\n",
    "s=input(\"Enter ur string\")\n",
    "l=[]\n",
    "l.extend(s)\n",
    "l.pop(loc)\n",
    "print(\"Here is the string after removing:\")\n",
    "print(l)"
   ]
  },
  {
   "cell_type": "code",
   "execution_count": 49,
   "metadata": {},
   "outputs": [
    {
     "name": "stdout",
     "output_type": "stream",
     "text": [
      "Enter the stringhi my name is jagjith\n",
      "This is the split string :\n",
      "['hi', 'my', 'name', 'is', 'jagjith']\n",
      "This is the original string\n"
     ]
    },
    {
     "data": {
      "text/plain": [
       "'hi my name is jagjith'"
      ]
     },
     "execution_count": 49,
     "metadata": {},
     "output_type": "execute_result"
    }
   ],
   "source": [
    "#Question No.3:\n",
    "s=input(\"Enter the string\")\n",
    "l=[]\n",
    "o=[]\n",
    "l=s.split()\n",
    "print(\"This is the split string :\")\n",
    "print(l)\n",
    "print(\"This is the original string\")    \n",
    "\" \".join(l)"
   ]
  },
  {
   "cell_type": "code",
   "execution_count": 64,
   "metadata": {},
   "outputs": [
    {
     "name": "stdout",
     "output_type": "stream",
     "text": [
      "Enter your numbers10101001010\n",
      "This is a binary string\n"
     ]
    }
   ],
   "source": [
    "#Question No.4:\n",
    "num=int(input(\"Enter your numbers\"))\n",
    "nums=str(num)\n",
    "l=[]\n",
    "l.extend(nums)\n",
    "for i in range(len(l)):\n",
    "        l[i]=int(l[i])\n",
    "c=0\n",
    "for i in range(len(l)):\n",
    "    if l[i]==1 or l[i]==0:\n",
    "        c=1\n",
    "    else:\n",
    "        c=0\n",
    "if c==1:\n",
    "    print(\"This is a binary string\")\n",
    "else:\n",
    "    print(\"This is not a binary string\")"
   ]
  },
  {
   "cell_type": "code",
   "execution_count": 18,
   "metadata": {},
   "outputs": [
    {
     "name": "stdout",
     "output_type": "stream",
     "text": [
      "Enter your stringhi my name\n",
      "Enter your second stringhi my name is jagjith\n",
      "is\n",
      "jagjith\n"
     ]
    }
   ],
   "source": [
    "#Question No.5:\n",
    "s=input(\"Enter your string\")\n",
    "s1=input(\"Enter your second string\")\n",
    "l=[]\n",
    "l1=[]\n",
    "l=s.split()\n",
    "l1=s1.split()\n",
    "c=0\n",
    "if len(l)<len(l1):\n",
    "    c=len(l1)\n",
    "else:\n",
    "    c=len(l)\n",
    "for i in range(c):\n",
    "    if l1[i] not in l:\n",
    "        print(l1[i])"
   ]
  },
  {
   "cell_type": "code",
   "execution_count": 23,
   "metadata": {},
   "outputs": [
    {
     "name": "stdout",
     "output_type": "stream",
     "text": [
      "Enter your stringfgszsgffg\n",
      "f\n",
      "g\n",
      "s\n"
     ]
    }
   ],
   "source": [
    "#Question No.6:\n",
    "s=input(\"Enter your string\")\n",
    "for i in range(len(s)):  \n",
    "    c = 1\n",
    "    for j in range(i+1, len(s)):  \n",
    "        if(s[i] == s[j] and s[i] != ' '):  \n",
    "            c = c + 1;  \n",
    "            s = s[:j] + '0' + s[j+1:];  \n",
    "            \n",
    "    if(c > 1 and s[i] != '0'):  \n",
    "        print(s[i]);      "
   ]
  },
  {
   "cell_type": "code",
   "execution_count": 31,
   "metadata": {},
   "outputs": [
    {
     "name": "stdout",
     "output_type": "stream",
     "text": [
      "Enter your stringicdksndippiu&\n",
      "This string has special characters\n"
     ]
    }
   ],
   "source": [
    "#Question No.7:\n",
    "s=input(\"Enter your string\")\n",
    "l=[]\n",
    "l.extend(s)\n",
    "y=0\n",
    "for i in range(len(l)):\n",
    "    if l[i]==\"@\" or l[i]==\"!\" or l[i]==\"#\" or l[i]==\"$\" or l[i]==\"%\" or l[i]==\"^\" or l[i]==\"&\" or l[i]==\"*\" or l[i]==\"+\" or l[i]==\"=\" or l[i]==\"?\":\n",
    "        y=1\n",
    "    else:\n",
    "        y=2\n",
    "if y==1:\n",
    "    print(\"This string has special characters\")\n",
    "elif y==2:    \n",
    "    print(\"This string has no special characters\")"
   ]
  },
  {
   "cell_type": "code",
   "execution_count": null,
   "metadata": {},
   "outputs": [],
   "source": [
    " "
   ]
  },
  {
   "cell_type": "code",
   "execution_count": null,
   "metadata": {},
   "outputs": [],
   "source": []
  }
 ],
 "metadata": {
  "kernelspec": {
   "display_name": "Python 3",
   "language": "python",
   "name": "python3"
  },
  "language_info": {
   "codemirror_mode": {
    "name": "ipython",
    "version": 3
   },
   "file_extension": ".py",
   "mimetype": "text/x-python",
   "name": "python",
   "nbconvert_exporter": "python",
   "pygments_lexer": "ipython3",
   "version": "3.8.3"
  }
 },
 "nbformat": 4,
 "nbformat_minor": 4
}
